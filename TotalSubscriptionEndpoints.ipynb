{
  "cells": [
    {
      "cell_type": "code",
      "source": [
        "from azure.ai.ml import MLClient\n",
        "from azure.identity import DefaultAzureCredential\n",
        "\n",
        "# Initialize subscription MLClient\n",
        "subscription_id = '<your subscription id>'\n",
        "ml_client = MLClient(DefaultAzureCredential(), subscription_id)\n",
        "\n",
        "# List all workspaces in the subscription\n",
        "workspaces = ml_client.workspaces.list(scope='subscription')\n"
      ],
      "outputs": [],
      "execution_count": 16,
      "metadata": {
        "gather": {
          "logged": 1730376802570
        }
      }
    },
    {
      "cell_type": "code",
      "source": [
        "# Initialize counters\n",
        "total_managed_online_endpoints = 0\n",
        "total_serverless_online_endpoints = 0\n",
        "total_batch_endpoints = 0\n",
        "\n",
        "# Iterate through each workspace and count endpoints\n",
        "for workspace in workspaces:\n",
        "\n",
        "    print(workspace.name)\n",
        "    # Initialize workspace MLClient\n",
        "    ws_client = MLClient(DefaultAzureCredential(), subscription_id, workspace.resource_group, workspace.name)\n",
        "\n",
        "    # Count managed online endpoints\n",
        "    managed_online_endpoints = ws_client.online_endpoints.list()\n",
        "    ws_managed_online_endpoints = len(list(managed_online_endpoints))\n",
        "    total_managed_online_endpoints += ws_managed_online_endpoints \n",
        "    \n",
        "    # Count serverless online endpoints\n",
        "    serverless_online_endpoints = ws_client.serverless_endpoints.list()\n",
        "    ws_serverless_online_endpoints = len(list(serverless_online_endpoints))\n",
        "    total_serverless_online_endpoints += ws_serverless_online_endpoints \n",
        "    \n",
        "    # Count batch endpoints\n",
        "    batch_endpoints = ws_client.batch_endpoints.list()\n",
        "    ws_batch_endpoints = len(list(batch_endpoints))\n",
        "    total_batch_endpoints += ws_batch_endpoints\n",
        "    # Print the total counts\n",
        "    print(f\"\\tWS Online Endpoints: {ws_managed_online_endpoints}\")\n",
        "    print(f\"\\tWS Serverless Online Endpoints: {ws_serverless_online_endpoints}\")\n",
        "    print(f\"\\tWS Batch Endpoints: {ws_batch_endpoints}\")\n",
        "\n",
        "# Print the total counts\n",
        "print(f\"Total Online Endpoints: {total_managed_online_endpoints}\")\n",
        "print(f\"Total Serverless Online Endpoints: {total_serverless_online_endpoints}\")\n",
        "print(f\"Total Batch Endpoints: {total_batch_endpoints}\")"
      ],
      "outputs": [
        {
          "output_type": "stream",
          "name": "stdout",
          "text": "Total Online Endpoints: 0\nTotal Serverless Online Endpoints: 0\nTotal Batch Endpoints: 0\n"
        }
      ],
      "execution_count": 18,
      "metadata": {
        "jupyter": {
          "source_hidden": false,
          "outputs_hidden": false
        },
        "nteract": {
          "transient": {
            "deleting": false
          }
        },
        "gather": {
          "logged": 1730376824869
        }
      }
    }
  ],
  "metadata": {
    "kernelspec": {
      "name": "python310-sdkv2",
      "language": "python",
      "display_name": "Python 3.10 - SDK v2"
    },
    "language_info": {
      "name": "python",
      "version": "3.10.14",
      "mimetype": "text/x-python",
      "codemirror_mode": {
        "name": "ipython",
        "version": 3
      },
      "pygments_lexer": "ipython3",
      "nbconvert_exporter": "python",
      "file_extension": ".py"
    },
    "microsoft": {
      "ms_spell_check": {
        "ms_spell_check_language": "en"
      },
      "host": {
        "AzureML": {
          "notebookHasBeenCompleted": true
        }
      }
    },
    "kernel_info": {
      "name": "python310-sdkv2"
    },
    "nteract": {
      "version": "nteract-front-end@1.0.0"
    }
  },
  "nbformat": 4,
  "nbformat_minor": 2
}